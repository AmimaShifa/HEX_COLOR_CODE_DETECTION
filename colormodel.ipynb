{
 "cells": [
  {
   "cell_type": "code",
   "execution_count": 56,
   "id": "induced-insurance",
   "metadata": {},
   "outputs": [],
   "source": [
    "from sklearn.cluster import KMeans\n",
    "import numpy as np\n",
    "import cv2\n",
    "from collections import Counter\n",
    "from skimage.color import rgb2lab, deltaE_cie76\n",
    "import pickle\n"
   ]
  },
  {
   "cell_type": "code",
   "execution_count": 57,
   "id": "irish-digest",
   "metadata": {},
   "outputs": [],
   "source": [
    "def RGB2HEX(color):\n",
    "    return \"#{:02x}{:02x}{:02x}\".format(int(color[0]), int(color[1]), int(color[2]))\n"
   ]
  },
  {
   "cell_type": "code",
   "execution_count": 58,
   "id": "failing-contract",
   "metadata": {},
   "outputs": [],
   "source": [
    "def get_image(image_path):\n",
    "    image = cv2.imread(image_path)\n",
    "    image = cv2.cvtColor(image, cv2.COLOR_BGR2RGB)\n",
    "    return image"
   ]
  },
  {
   "cell_type": "code",
   "execution_count": 59,
   "id": "retained-pricing",
   "metadata": {},
   "outputs": [],
   "source": [
    "def get_colors(image, number_of_colors):\n",
    "    \n",
    "    modified_image = cv2.resize(image, (600, 400), interpolation = cv2.INTER_AREA)\n",
    "    modified_image = modified_image.reshape(modified_image.shape[0]*modified_image.shape[1], 3)\n",
    "    \n",
    "    clf = KMeans(n_clusters = number_of_colors)\n",
    "    labels = clf.fit_predict(modified_image)\n",
    "    \n",
    "    counts = Counter(labels)\n",
    "    # sort to ensure correct color percentage\n",
    "    counts = dict(sorted(counts.items()))\n",
    "    \n",
    "    center_colors = clf.cluster_centers_\n",
    "    # We get ordered colors by iterating through the keys\n",
    "    ordered_colors = [center_colors[i] for i in counts.keys()]\n",
    "    hex_colors = [RGB2HEX(ordered_colors[i]) for i in counts.keys()]\n",
    "   \n",
    "    final=\"The HEX CODES for 8 dominant colors are : \"+str(hex_colors)\n",
    "    return final\n",
    "    \n",
    "    \n",
    "    "
   ]
  },
  {
   "cell_type": "code",
   "execution_count": 60,
   "id": "coordinate-pacific",
   "metadata": {},
   "outputs": [
    {
     "data": {
      "text/plain": [
       "\"The HEX CODES for 8 dominant colors are : ['#22914e', '#062c2b', '#0d5835', '#021526', '#30a45e', '#09432f', '#126b3b', '#197e43']\""
      ]
     },
     "execution_count": 60,
     "metadata": {},
     "output_type": "execute_result"
    }
   ],
   "source": [
    "get_colors(get_image('image_1.jpg'), 8)"
   ]
  },
  {
   "cell_type": "code",
   "execution_count": 61,
   "id": "assigned-simpson",
   "metadata": {},
   "outputs": [],
   "source": [
    "pickle.dump(get_colors,open('colorcodepredict.pk1','wb'))"
   ]
  },
  {
   "cell_type": "code",
   "execution_count": null,
   "id": "faced-springfield",
   "metadata": {},
   "outputs": [],
   "source": []
  }
 ],
 "metadata": {
  "kernelspec": {
   "display_name": "Python 3",
   "language": "python",
   "name": "python3"
  },
  "language_info": {
   "codemirror_mode": {
    "name": "ipython",
    "version": 3
   },
   "file_extension": ".py",
   "mimetype": "text/x-python",
   "name": "python",
   "nbconvert_exporter": "python",
   "pygments_lexer": "ipython3",
   "version": "3.7.4"
  }
 },
 "nbformat": 4,
 "nbformat_minor": 5
}
